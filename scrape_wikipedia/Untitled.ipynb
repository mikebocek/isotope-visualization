{
 "cells": [
  {
   "cell_type": "code",
   "execution_count": 181,
   "metadata": {
    "collapsed": true
   },
   "outputs": [],
   "source": [
    "import re\n",
    "import pickle\n",
    "import time\n",
    "\n",
    "import requests\n",
    "from bs4 import BeautifulSoup\n",
    "\n",
    "import pandas as pd"
   ]
  },
  {
   "cell_type": "code",
   "execution_count": 148,
   "metadata": {
    "collapsed": false
   },
   "outputs": [],
   "source": [
    "resp_elements = requests.get('https://en.wikipedia.org/wiki/Category:Lists_of_isotopes_by_element')\n",
    "resp_elements.raise_for_status()\n",
    "elements_html = BeautifulSoup(resp_elements.text, 'lxml')"
   ]
  },
  {
   "cell_type": "code",
   "execution_count": 166,
   "metadata": {
    "collapsed": false
   },
   "outputs": [],
   "source": [
    "link_list = elements_html.findAll('a')\n",
    "link_list = ['http://www.wikipedia.org'+a.get('href') \n",
    " for a in link_list \n",
    " if (a.get('href') is not None and 'Isotopes_of_' in a.get('href'))]"
   ]
  },
  {
   "cell_type": "code",
   "execution_count": 177,
   "metadata": {
    "collapsed": true
   },
   "outputs": [],
   "source": [
    "exclude_citation = re.compile('\\[.*\\]')\n",
    "\n",
    "def extract_data_row(row):\n",
    "    line_data = []\n",
    "    for entry in row.findAll('td'):\n",
    "        inner_data = exclude_citation.sub('', sort_key_remover.sub('', entry.get_text()))\n",
    "        line_data.append(inner_data)\n",
    "        if entry.get('colspan') is not None:\n",
    "            line_data.extend(['NA']*(int(entry.get('colspan')) -1) )\n",
    "    return line_data \n",
    "\n",
    "def extract_text_from_non_hidden(node):\n",
    "    return ''.join(i.text for i in node.findAll({'class': lambda x: x!= 'sortkey'}))\n",
    "\n",
    "def get_table_from_links(link_address):\n",
    "    resp = requests.get(link_address)\n",
    "    resp.raise_for_status()\n",
    "    html = BeautifulSoup(resp.text, 'lxml')\n",
    "    table_list = html.findAll('table', {'class': 'wikitable'})\n",
    "    isotope_table = None\n",
    "    for table in table_list:\n",
    "        if 'spin' in table.text:\n",
    "            isotope_table = table\n",
    "    if isotope_table is None:\n",
    "        return None, resp\n",
    "    rows = list(isotope_table.findAll('tr'))\n",
    "    names = [exclude_citation.sub('', i.text.replace('\\n', ' ')) for i in rows[0].findAll('th')]\n",
    "    frame = pd.DataFrame([extract_data_row(i) for i in rows[1:]], columns=names)\n",
    "    return frame, resp"
   ]
  },
  {
   "cell_type": "code",
   "execution_count": 178,
   "metadata": {
    "collapsed": false
   },
   "outputs": [],
   "source": [
    "a, b = get_table_from_links('https://en.wikipedia.org/wiki/Isotopes_of_uranium')"
   ]
  },
  {
   "cell_type": "code",
   "execution_count": 190,
   "metadata": {
    "collapsed": false
   },
   "outputs": [],
   "source": [
    "element_name = re.compile('of_(.*)$')\n",
    "names_and_links = {element_name.findall(i)[0]: i for i in link_list}"
   ]
  },
  {
   "cell_type": "code",
   "execution_count": null,
   "metadata": {
    "collapsed": true
   },
   "outputs": [],
   "source": [
    "#element_data = {}"
   ]
  },
  {
   "cell_type": "code",
   "execution_count": 198,
   "metadata": {
    "collapsed": false
   },
   "outputs": [
    {
     "name": "stdout",
     "output_type": "stream",
     "text": [
      "curium\n",
      "platinum\n",
      "iron\n",
      "silver\n",
      "helium\n",
      "gadolinium\n",
      "neutronium\n",
      "zirconium\n",
      "selenium\n",
      "cadmium\n",
      "ytterbium\n",
      "radium\n",
      "europium\n",
      "bohrium\n",
      "technetium\n",
      "dysprosium\n",
      "cobalt\n",
      "chromium\n",
      "zinc\n",
      "boron\n",
      "titanium\n",
      "neodymium\n",
      "fluorine\n",
      "seaborgium\n",
      "bismuth\n",
      "potassium\n",
      "oxygen\n",
      "strontium\n",
      "sulfur\n",
      "astatine\n",
      "lithium\n",
      "gallium\n",
      "phosphorus\n",
      "uranium\n",
      "erbium\n",
      "beryllium\n",
      "polonium\n",
      "actinium\n",
      "tungsten\n",
      "einsteinium\n",
      "fermium\n",
      "mendelevium\n",
      "silicon\n",
      "nihonium\n",
      "roentgenium\n",
      "caesium\n",
      "manganese\n",
      "germanium\n",
      "scandium\n",
      "thulium\n",
      "rhodium\n",
      "neon\n",
      "osmium\n",
      "plutonium\n",
      "tellurium\n",
      "indium\n",
      "meitnerium\n",
      "unbinilium\n",
      "samarium\n",
      "hydrogen\n",
      "rubidium\n",
      "calcium\n",
      "americium\n",
      "francium\n",
      "flerovium\n",
      "bromine\n",
      "vanadium\n",
      "radon\n",
      "berkelium\n",
      "tennessine\n",
      "neptunium\n",
      "thallium\n",
      "niobium\n",
      "nobelium\n",
      "yttrium\n",
      "carbon\n",
      "ununennium\n",
      "gold\n",
      "iridium\n",
      "praseodymium\n",
      "copper\n",
      "tin\n",
      "molybdenum\n",
      "protactinium\n",
      "barium\n",
      "xenon\n",
      "oganesson\n",
      "livermorium\n",
      "nickel\n",
      "thorium\n",
      "cerium\n",
      "rutherfordium\n",
      "aluminium\n",
      "darmstadtium\n",
      "lutetium\n",
      "iodine\n",
      "moscovium\n",
      "palladium\n",
      "promethium\n",
      "dubnium\n",
      "mercury\n",
      "hassium\n",
      "antimony\n",
      "krypton\n",
      "nitrogen\n",
      "californium\n",
      "chlorine\n",
      "sodium\n",
      "ruthenium\n",
      "copernicium\n",
      "magnesium\n",
      "tantalum\n",
      "argon\n",
      "rhenium\n",
      "hafnium\n",
      "terbium\n",
      "lanthanum\n",
      "lawrencium\n",
      "arsenic\n",
      "lead\n"
     ]
    }
   ],
   "source": [
    "\n",
    "for i in names_and_links:\n",
    "    if i not in element_data and i != 'holmium' :\n",
    "        print(i)\n",
    "        element_data[i] = get_table_from_links(names_and_links[i]) \n",
    "        time.sleep(10)"
   ]
  },
  {
   "cell_type": "code",
   "execution_count": 199,
   "metadata": {
    "collapsed": false
   },
   "outputs": [
    {
     "data": {
      "text/plain": [
       "{'holmium'}"
      ]
     },
     "execution_count": 199,
     "metadata": {},
     "output_type": "execute_result"
    }
   ],
   "source": [
    "set(names_and_links.keys()) - set(element_data.keys())"
   ]
  },
  {
   "cell_type": "code",
   "execution_count": 200,
   "metadata": {
    "collapsed": true
   },
   "outputs": [],
   "source": [
    "holmium_html = BeautifulSoup(requests.get('http://www.wikipedia.org/wiki/Isotopes_of_holmium').text, 'lxml') "
   ]
  },
  {
   "cell_type": "code",
   "execution_count": 206,
   "metadata": {
    "collapsed": true
   },
   "outputs": [],
   "source": [
    "t = holmium_html.findAll('table', {'class': 'wikitable'})[0]"
   ]
  },
  {
   "cell_type": "code",
   "execution_count": 220,
   "metadata": {
    "collapsed": false
   },
   "outputs": [],
   "source": [
    "rows = list(t.findAll('tr'))\n",
    "names = [exclude_citation.sub('', i.text.replace('\\n', ' ')) for i in rows[0].findAll('th')]\n",
    "frame = pd.DataFrame([extract_data_row(i) for i in rows[1:] if len(extract_data_row(i)) == 10], columns=names)"
   ]
  },
  {
   "cell_type": "code",
   "execution_count": 222,
   "metadata": {
    "collapsed": false
   },
   "outputs": [],
   "source": [
    "element_data['holmium'] = (frame, requests.get('http://www.wikipedia.org/wiki/Isotopes_of_holmium') )"
   ]
  },
  {
   "cell_type": "code",
   "execution_count": 224,
   "metadata": {
    "collapsed": false
   },
   "outputs": [],
   "source": [
    "?pickle.dump"
   ]
  },
  {
   "cell_type": "code",
   "execution_count": 227,
   "metadata": {
    "collapsed": false
   },
   "outputs": [],
   "source": [
    "with open('element_data.pickle', 'wb') as f:\n",
    "    pickle.dump(element_data, f)"
   ]
  },
  {
   "cell_type": "code",
   "execution_count": null,
   "metadata": {
    "collapsed": true
   },
   "outputs": [],
   "source": []
  }
 ],
 "metadata": {
  "anaconda-cloud": {},
  "kernelspec": {
   "display_name": "Python [conda root]",
   "language": "python",
   "name": "conda-root-py"
  },
  "language_info": {
   "codemirror_mode": {
    "name": "ipython",
    "version": 3
   },
   "file_extension": ".py",
   "mimetype": "text/x-python",
   "name": "python",
   "nbconvert_exporter": "python",
   "pygments_lexer": "ipython3",
   "version": "3.5.2"
  }
 },
 "nbformat": 4,
 "nbformat_minor": 1
}
